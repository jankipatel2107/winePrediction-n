{
  "nbformat": 4,
  "nbformat_minor": 0,
  "metadata": {
    "kernelspec": {
      "display_name": "Python 2",
      "language": "python",
      "name": "python2"
    },
    "language_info": {
      "codemirror_mode": {
        "name": "ipython",
        "version": 2
      },
      "file_extension": ".py",
      "mimetype": "text/x-python",
      "name": "python",
      "nbconvert_exporter": "python",
      "pygments_lexer": "ipython2",
      "version": "2.7.16"
    },
    "colab": {
      "name": "WineModel.ipynb",
      "provenance": [],
      "collapsed_sections": []
    }
  },
  "cells": [
    {
      "cell_type": "code",
      "metadata": {
        "id": "C3_hQO8zfwlx"
      },
      "source": [
        "import pandas as pd\n",
        "import seaborn as sns\n",
        "import matplotlib.pyplot as plt\n",
        "import sklearn \n",
        "from sklearn.ensemble import RandomForestClassifier\n",
        "from sklearn.svm import SVC\n",
        "from sklearn.linear_model import SGDClassifier\n",
        "from sklearn.tree import DecisionTreeClassifier\n",
        "from sklearn.metrics import confusion_matrix, classification_report\n",
        "from sklearn.preprocessing import StandardScaler, LabelEncoder\n",
        "from sklearn.model_selection import train_test_split, GridSearchCV, cross_val_score\n",
        "%matplotlib inline\n",
        "import pickle\n"
      ],
      "execution_count": 35,
      "outputs": []
    },
    {
      "cell_type": "code",
      "metadata": {
        "id": "PN8nQuiffwlz"
      },
      "source": [
        "wine = pd.read_csv('TrainingDataset.csv', delimiter = \";\")"
      ],
      "execution_count": 36,
      "outputs": []
    },
    {
      "cell_type": "code",
      "metadata": {
        "colab": {
          "base_uri": "https://localhost:8080/",
          "height": 204
        },
        "id": "IgddW4t_fwl0",
        "outputId": "31e707e3-7df4-4392-b3a6-6ccdf7e49975"
      },
      "source": [
        "wine.head()"
      ],
      "execution_count": 37,
      "outputs": [
        {
          "output_type": "execute_result",
          "data": {
            "text/plain": [
              "   fixed acidity  volatile acidity  citric acid  residual sugar  chlorides  \\\n",
              "0            8.9              0.22         0.48             1.8      0.077   \n",
              "1            7.6              0.39         0.31             2.3      0.082   \n",
              "2            7.9              0.43         0.21             1.6      0.106   \n",
              "3            8.5              0.49         0.11             2.3      0.084   \n",
              "4            6.9              0.40         0.14             2.4      0.085   \n",
              "\n",
              "   free sulfur dioxide  total sulfur dioxide  density    pH  sulphates  \\\n",
              "0                 29.0                  60.0   0.9968  3.39       0.53   \n",
              "1                 23.0                  71.0   0.9982  3.52       0.65   \n",
              "2                 10.0                  37.0   0.9966  3.17       0.91   \n",
              "3                  9.0                  67.0   0.9968  3.17       0.53   \n",
              "4                 21.0                  40.0   0.9968  3.43       0.63   \n",
              "\n",
              "   alcohol  quality  \n",
              "0      9.4        6  \n",
              "1      9.7        5  \n",
              "2      9.5        5  \n",
              "3      9.4        5  \n",
              "4      9.7        6  "
            ],
            "text/html": [
              "<div>\n",
              "<style scoped>\n",
              "    .dataframe tbody tr th:only-of-type {\n",
              "        vertical-align: middle;\n",
              "    }\n",
              "\n",
              "    .dataframe tbody tr th {\n",
              "        vertical-align: top;\n",
              "    }\n",
              "\n",
              "    .dataframe thead th {\n",
              "        text-align: right;\n",
              "    }\n",
              "</style>\n",
              "<table border=\"1\" class=\"dataframe\">\n",
              "  <thead>\n",
              "    <tr style=\"text-align: right;\">\n",
              "      <th></th>\n",
              "      <th>fixed acidity</th>\n",
              "      <th>volatile acidity</th>\n",
              "      <th>citric acid</th>\n",
              "      <th>residual sugar</th>\n",
              "      <th>chlorides</th>\n",
              "      <th>free sulfur dioxide</th>\n",
              "      <th>total sulfur dioxide</th>\n",
              "      <th>density</th>\n",
              "      <th>pH</th>\n",
              "      <th>sulphates</th>\n",
              "      <th>alcohol</th>\n",
              "      <th>quality</th>\n",
              "    </tr>\n",
              "  </thead>\n",
              "  <tbody>\n",
              "    <tr>\n",
              "      <th>0</th>\n",
              "      <td>8.9</td>\n",
              "      <td>0.22</td>\n",
              "      <td>0.48</td>\n",
              "      <td>1.8</td>\n",
              "      <td>0.077</td>\n",
              "      <td>29.0</td>\n",
              "      <td>60.0</td>\n",
              "      <td>0.9968</td>\n",
              "      <td>3.39</td>\n",
              "      <td>0.53</td>\n",
              "      <td>9.4</td>\n",
              "      <td>6</td>\n",
              "    </tr>\n",
              "    <tr>\n",
              "      <th>1</th>\n",
              "      <td>7.6</td>\n",
              "      <td>0.39</td>\n",
              "      <td>0.31</td>\n",
              "      <td>2.3</td>\n",
              "      <td>0.082</td>\n",
              "      <td>23.0</td>\n",
              "      <td>71.0</td>\n",
              "      <td>0.9982</td>\n",
              "      <td>3.52</td>\n",
              "      <td>0.65</td>\n",
              "      <td>9.7</td>\n",
              "      <td>5</td>\n",
              "    </tr>\n",
              "    <tr>\n",
              "      <th>2</th>\n",
              "      <td>7.9</td>\n",
              "      <td>0.43</td>\n",
              "      <td>0.21</td>\n",
              "      <td>1.6</td>\n",
              "      <td>0.106</td>\n",
              "      <td>10.0</td>\n",
              "      <td>37.0</td>\n",
              "      <td>0.9966</td>\n",
              "      <td>3.17</td>\n",
              "      <td>0.91</td>\n",
              "      <td>9.5</td>\n",
              "      <td>5</td>\n",
              "    </tr>\n",
              "    <tr>\n",
              "      <th>3</th>\n",
              "      <td>8.5</td>\n",
              "      <td>0.49</td>\n",
              "      <td>0.11</td>\n",
              "      <td>2.3</td>\n",
              "      <td>0.084</td>\n",
              "      <td>9.0</td>\n",
              "      <td>67.0</td>\n",
              "      <td>0.9968</td>\n",
              "      <td>3.17</td>\n",
              "      <td>0.53</td>\n",
              "      <td>9.4</td>\n",
              "      <td>5</td>\n",
              "    </tr>\n",
              "    <tr>\n",
              "      <th>4</th>\n",
              "      <td>6.9</td>\n",
              "      <td>0.40</td>\n",
              "      <td>0.14</td>\n",
              "      <td>2.4</td>\n",
              "      <td>0.085</td>\n",
              "      <td>21.0</td>\n",
              "      <td>40.0</td>\n",
              "      <td>0.9968</td>\n",
              "      <td>3.43</td>\n",
              "      <td>0.63</td>\n",
              "      <td>9.7</td>\n",
              "      <td>6</td>\n",
              "    </tr>\n",
              "  </tbody>\n",
              "</table>\n",
              "</div>"
            ]
          },
          "metadata": {
            "tags": []
          },
          "execution_count": 37
        }
      ]
    },
    {
      "cell_type": "code",
      "metadata": {
        "colab": {
          "base_uri": "https://localhost:8080/"
        },
        "id": "U3MnCFCIfwl2",
        "outputId": "59afc6c4-f0bc-41cf-db29-3c0ec670af3b"
      },
      "source": [
        "wine.info()"
      ],
      "execution_count": 38,
      "outputs": [
        {
          "output_type": "stream",
          "text": [
            "<class 'pandas.core.frame.DataFrame'>\n",
            "RangeIndex: 1279 entries, 0 to 1278\n",
            "Data columns (total 12 columns):\n",
            "fixed acidity           1279 non-null float64\n",
            "volatile acidity        1279 non-null float64\n",
            "citric acid             1279 non-null float64\n",
            "residual sugar          1279 non-null float64\n",
            "chlorides               1279 non-null float64\n",
            "free sulfur dioxide     1279 non-null float64\n",
            "total sulfur dioxide    1279 non-null float64\n",
            "density                 1279 non-null float64\n",
            "pH                      1279 non-null float64\n",
            "sulphates               1279 non-null float64\n",
            "alcohol                 1279 non-null float64\n",
            "quality                 1279 non-null int64\n",
            "dtypes: float64(11), int64(1)\n",
            "memory usage: 120.0 KB\n"
          ],
          "name": "stdout"
        }
      ]
    },
    {
      "cell_type": "code",
      "metadata": {
        "colab": {
          "base_uri": "https://localhost:8080/"
        },
        "id": "92cxE2nrgJT6",
        "outputId": "76349546-8d5d-4bfa-b66b-b0603d9d7a10"
      },
      "source": [
        "print(wine['quality'].min(), wine['quality'].max())\n",
        "#since the quality of wine is ranging from 3 to 8, I have reduced the label to 0 -> Good (0, 5.5), 1 -> Medium(5.5, 7.5), 2 -> Bad(7.5, 10)"
      ],
      "execution_count": 39,
      "outputs": [
        {
          "output_type": "stream",
          "text": [
            "(3, 8)\n"
          ],
          "name": "stdout"
        }
      ]
    },
    {
      "cell_type": "code",
      "metadata": {
        "colab": {
          "base_uri": "https://localhost:8080/",
          "height": 204
        },
        "id": "UnemYNtMfwl2",
        "outputId": "330e73c1-747f-4865-f1dd-f64c07370f39"
      },
      "source": [
        "bins = [0, 5.5, 7.5, 10]\n",
        "labels = [0, 1, 2]\n",
        "wine['quality'] = pd.cut(wine['quality'], bins=bins, labels=labels)\n",
        "wine.head()\n"
      ],
      "execution_count": 40,
      "outputs": [
        {
          "output_type": "execute_result",
          "data": {
            "text/plain": [
              "   fixed acidity  volatile acidity  citric acid  residual sugar  chlorides  \\\n",
              "0            8.9              0.22         0.48             1.8      0.077   \n",
              "1            7.6              0.39         0.31             2.3      0.082   \n",
              "2            7.9              0.43         0.21             1.6      0.106   \n",
              "3            8.5              0.49         0.11             2.3      0.084   \n",
              "4            6.9              0.40         0.14             2.4      0.085   \n",
              "\n",
              "   free sulfur dioxide  total sulfur dioxide  density    pH  sulphates  \\\n",
              "0                 29.0                  60.0   0.9968  3.39       0.53   \n",
              "1                 23.0                  71.0   0.9982  3.52       0.65   \n",
              "2                 10.0                  37.0   0.9966  3.17       0.91   \n",
              "3                  9.0                  67.0   0.9968  3.17       0.53   \n",
              "4                 21.0                  40.0   0.9968  3.43       0.63   \n",
              "\n",
              "   alcohol quality  \n",
              "0      9.4       1  \n",
              "1      9.7       0  \n",
              "2      9.5       0  \n",
              "3      9.4       0  \n",
              "4      9.7       1  "
            ],
            "text/html": [
              "<div>\n",
              "<style scoped>\n",
              "    .dataframe tbody tr th:only-of-type {\n",
              "        vertical-align: middle;\n",
              "    }\n",
              "\n",
              "    .dataframe tbody tr th {\n",
              "        vertical-align: top;\n",
              "    }\n",
              "\n",
              "    .dataframe thead th {\n",
              "        text-align: right;\n",
              "    }\n",
              "</style>\n",
              "<table border=\"1\" class=\"dataframe\">\n",
              "  <thead>\n",
              "    <tr style=\"text-align: right;\">\n",
              "      <th></th>\n",
              "      <th>fixed acidity</th>\n",
              "      <th>volatile acidity</th>\n",
              "      <th>citric acid</th>\n",
              "      <th>residual sugar</th>\n",
              "      <th>chlorides</th>\n",
              "      <th>free sulfur dioxide</th>\n",
              "      <th>total sulfur dioxide</th>\n",
              "      <th>density</th>\n",
              "      <th>pH</th>\n",
              "      <th>sulphates</th>\n",
              "      <th>alcohol</th>\n",
              "      <th>quality</th>\n",
              "    </tr>\n",
              "  </thead>\n",
              "  <tbody>\n",
              "    <tr>\n",
              "      <th>0</th>\n",
              "      <td>8.9</td>\n",
              "      <td>0.22</td>\n",
              "      <td>0.48</td>\n",
              "      <td>1.8</td>\n",
              "      <td>0.077</td>\n",
              "      <td>29.0</td>\n",
              "      <td>60.0</td>\n",
              "      <td>0.9968</td>\n",
              "      <td>3.39</td>\n",
              "      <td>0.53</td>\n",
              "      <td>9.4</td>\n",
              "      <td>1</td>\n",
              "    </tr>\n",
              "    <tr>\n",
              "      <th>1</th>\n",
              "      <td>7.6</td>\n",
              "      <td>0.39</td>\n",
              "      <td>0.31</td>\n",
              "      <td>2.3</td>\n",
              "      <td>0.082</td>\n",
              "      <td>23.0</td>\n",
              "      <td>71.0</td>\n",
              "      <td>0.9982</td>\n",
              "      <td>3.52</td>\n",
              "      <td>0.65</td>\n",
              "      <td>9.7</td>\n",
              "      <td>0</td>\n",
              "    </tr>\n",
              "    <tr>\n",
              "      <th>2</th>\n",
              "      <td>7.9</td>\n",
              "      <td>0.43</td>\n",
              "      <td>0.21</td>\n",
              "      <td>1.6</td>\n",
              "      <td>0.106</td>\n",
              "      <td>10.0</td>\n",
              "      <td>37.0</td>\n",
              "      <td>0.9966</td>\n",
              "      <td>3.17</td>\n",
              "      <td>0.91</td>\n",
              "      <td>9.5</td>\n",
              "      <td>0</td>\n",
              "    </tr>\n",
              "    <tr>\n",
              "      <th>3</th>\n",
              "      <td>8.5</td>\n",
              "      <td>0.49</td>\n",
              "      <td>0.11</td>\n",
              "      <td>2.3</td>\n",
              "      <td>0.084</td>\n",
              "      <td>9.0</td>\n",
              "      <td>67.0</td>\n",
              "      <td>0.9968</td>\n",
              "      <td>3.17</td>\n",
              "      <td>0.53</td>\n",
              "      <td>9.4</td>\n",
              "      <td>0</td>\n",
              "    </tr>\n",
              "    <tr>\n",
              "      <th>4</th>\n",
              "      <td>6.9</td>\n",
              "      <td>0.40</td>\n",
              "      <td>0.14</td>\n",
              "      <td>2.4</td>\n",
              "      <td>0.085</td>\n",
              "      <td>21.0</td>\n",
              "      <td>40.0</td>\n",
              "      <td>0.9968</td>\n",
              "      <td>3.43</td>\n",
              "      <td>0.63</td>\n",
              "      <td>9.7</td>\n",
              "      <td>1</td>\n",
              "    </tr>\n",
              "  </tbody>\n",
              "</table>\n",
              "</div>"
            ]
          },
          "metadata": {
            "tags": []
          },
          "execution_count": 40
        }
      ]
    },
    {
      "cell_type": "code",
      "metadata": {
        "id": "OQFnxgkOfwl3"
      },
      "source": [
        "X_train = wine.drop('quality', axis = 1)\n",
        "y_train = wine['quality']\n",
        " \n",
        "test_data = pd.read_csv('ValidationDataset.csv', delimiter = \";\")\n",
        "X_test = test_data.drop('quality', axis = 1)\n",
        "test_data['quality'] = pd.cut(test_data['quality'], bins=bins, labels=labels)\n",
        "y_test = test_data['quality']\n"
      ],
      "execution_count": 41,
      "outputs": []
    },
    {
      "cell_type": "code",
      "metadata": {
        "id": "XcIuP5Zefwl3"
      },
      "source": [
        "sc = StandardScaler()\n",
        "# to make data scaler "
      ],
      "execution_count": 42,
      "outputs": []
    },
    {
      "cell_type": "code",
      "metadata": {
        "id": "drMbf0GRfwl3"
      },
      "source": [
        "X_train = sc.fit_transform(X_train)\n",
        "X_test = sc.fit_transform(X_test)\n"
      ],
      "execution_count": 43,
      "outputs": []
    },
    {
      "cell_type": "code",
      "metadata": {
        "id": "rst5KNUrfwl4"
      },
      "source": [
        "rfc_model = RandomForestClassifier(n_estimators=200)\n",
        "rfc_model.fit(X_train, y_train)\n",
        "pred_rfc = rfc_model.predict(X_test)"
      ],
      "execution_count": 44,
      "outputs": []
    },
    {
      "cell_type": "code",
      "metadata": {
        "colab": {
          "base_uri": "https://localhost:8080/"
        },
        "id": "ghtLCEaUfwl4",
        "outputId": "746da9b4-c6cb-44bb-8ac0-d0df63a2dbb8"
      },
      "source": [
        "cross_val = cross_val_score(estimator = rfc_model, X = X_train, y = y_train, cv = 10 )\n",
        "print(classification_report(y_test, pred_rfc))\n",
        "print(\"Model Accuracy is \" +str(cross_val.mean() * 100))\n"
      ],
      "execution_count": 45,
      "outputs": [
        {
          "output_type": "stream",
          "text": [
            "              precision    recall  f1-score   support\n",
            "\n",
            "           0       0.69      0.80      0.74        69\n",
            "           1       0.77      0.70      0.73        87\n",
            "           2       0.00      0.00      0.00         4\n",
            "\n",
            "   micro avg       0.72      0.72      0.73       160\n",
            "   macro avg       0.49      0.50      0.49       160\n",
            "weighted avg       0.72      0.72      0.72       160\n",
            "\n",
            "Model Accuracy is 72.36220472440944\n"
          ],
          "name": "stdout"
        }
      ]
    },
    {
      "cell_type": "code",
      "metadata": {
        "id": "jGTE5vrifwl5"
      },
      "source": [
        "pkl_filename = \"winePredictionModel.sav\"\n",
        "with open(pkl_filename, 'wb') as file:\n",
        "    pickle.dump(rfc_model, file)"
      ],
      "execution_count": 46,
      "outputs": []
    },
    {
      "cell_type": "code",
      "metadata": {
        "colab": {
          "base_uri": "https://localhost:8080/"
        },
        "id": "xUBkq-E9fwl5",
        "outputId": "54963a26-5ccb-4614-ebef-bc8dfa6b436c"
      },
      "source": [
        "#to test the model on hardcoded data \n",
        "d = {'fixed acidity': [8.9], \n",
        "     'volatile acidity': [0.22],  \n",
        "     'citric acid':[0.48],  \n",
        "     'residual sugar':[1.8], \n",
        "     'chlorides':[0.077], \n",
        "     'free sulfur dioxide': [29.0],\n",
        "     'total sulfur dioxide': [60.0],\n",
        "     'density': [0.9968],\n",
        "     'pH':[3.39],\n",
        "     'sulphates':[0.53],\n",
        "     'alcohol':[9.4],\n",
        "      }\n",
        "df = pd.DataFrame(data=d)\n",
        "model = pickle.load(open(pkl_filename, 'rb'))\n",
        "quality = model.predict(df)\n",
        "labels = ['Bad','Medium', 'Good']\n",
        "print(labels[quality[0]])"
      ],
      "execution_count": 47,
      "outputs": [
        {
          "output_type": "stream",
          "text": [
            "Bad\n"
          ],
          "name": "stdout"
        }
      ]
    },
    {
      "cell_type": "code",
      "metadata": {
        "id": "gPe1FH-Lfwl6"
      },
      "source": [
        ""
      ],
      "execution_count": null,
      "outputs": []
    },
    {
      "cell_type": "code",
      "metadata": {
        "id": "9zQ8iNWZfwl6",
        "outputId": "5020f576-1c5e-4ddf-bafd-27b8f796d7fb"
      },
      "source": [
        ""
      ],
      "execution_count": null,
      "outputs": [
        {
          "output_type": "execute_result",
          "data": {
            "text/plain": [
              "array([0])"
            ]
          },
          "metadata": {
            "tags": []
          },
          "execution_count": 17
        }
      ]
    },
    {
      "cell_type": "code",
      "metadata": {
        "id": "_MVvmSpxfwl6"
      },
      "source": [
        ""
      ],
      "execution_count": null,
      "outputs": []
    }
  ]
}